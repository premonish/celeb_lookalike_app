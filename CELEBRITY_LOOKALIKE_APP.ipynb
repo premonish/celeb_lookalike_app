{
  "nbformat": 4,
  "nbformat_minor": 0,
  "metadata": {
    "colab": {
      "name": "CELEBRITY_LOOKALIKE_APP.ipynb",
      "provenance": [],
      "collapsed_sections": [],
      "authorship_tag": "ABX9TyMd4m0yc+MRvM+LvKrPhkDn",
      "include_colab_link": true
    },
    "kernelspec": {
      "name": "python3",
      "display_name": "Python 3"
    },
    "language_info": {
      "name": "python"
    }
  },
  "cells": [
    {
      "cell_type": "markdown",
      "metadata": {
        "id": "view-in-github",
        "colab_type": "text"
      },
      "source": [
        "<a href=\"https://colab.research.google.com/github/premonish/celeb_lookalike_app/blob/main/CELEBRITY_LOOKALIKE_APP.ipynb\" target=\"_parent\"><img src=\"https://colab.research.google.com/assets/colab-badge.svg\" alt=\"Open In Colab\"/></a>"
      ]
    },
    {
      "cell_type": "code",
      "metadata": {
        "colab": {
          "base_uri": "https://localhost:8080/"
        },
        "id": "H_LPCBchIizb",
        "outputId": "51951f70-e160-4ed6-b4e9-8f43b7b5945a"
      },
      "source": [
        "!pip install keras_vggface\n",
        "!pip install keras_applications"
      ],
      "execution_count": 22,
      "outputs": [
        {
          "output_type": "stream",
          "text": [
            "Requirement already satisfied: keras_vggface in /usr/local/lib/python3.7/dist-packages (0.6)\n",
            "Requirement already satisfied: numpy>=1.9.1 in /usr/local/lib/python3.7/dist-packages (from keras_vggface) (1.19.5)\n",
            "Requirement already satisfied: pyyaml in /usr/local/lib/python3.7/dist-packages (from keras_vggface) (3.13)\n",
            "Requirement already satisfied: pillow in /usr/local/lib/python3.7/dist-packages (from keras_vggface) (7.1.2)\n",
            "Requirement already satisfied: keras in /usr/local/lib/python3.7/dist-packages (from keras_vggface) (2.4.3)\n",
            "Requirement already satisfied: h5py in /usr/local/lib/python3.7/dist-packages (from keras_vggface) (2.10.0)\n",
            "Requirement already satisfied: scipy>=0.14 in /usr/local/lib/python3.7/dist-packages (from keras_vggface) (1.4.1)\n",
            "Requirement already satisfied: six>=1.9.0 in /usr/local/lib/python3.7/dist-packages (from keras_vggface) (1.15.0)\n",
            "Requirement already satisfied: keras_applications in /usr/local/lib/python3.7/dist-packages (1.0.8)\n",
            "Requirement already satisfied: h5py in /usr/local/lib/python3.7/dist-packages (from keras_applications) (2.10.0)\n",
            "Requirement already satisfied: numpy>=1.9.1 in /usr/local/lib/python3.7/dist-packages (from keras_applications) (1.19.5)\n",
            "Requirement already satisfied: six in /usr/local/lib/python3.7/dist-packages (from h5py->keras_applications) (1.15.0)\n"
          ],
          "name": "stdout"
        }
      ]
    },
    {
      "cell_type": "code",
      "metadata": {
        "id": "Vo9ImZZYITzm"
      },
      "source": [
        "import requests\n",
        "import numpy as np\n",
        "from PIL import Image\n",
        "from keras.preprocessing import image\n",
        "from keras_vggface.vggface import VGGFace\n",
        "from keras_vggface import utils\n",
        "\n",
        "# tensorflow\n",
        "model = VGGFace() # default : VGG16 , you can use model='resnet50' or 'senet50'"
      ],
      "execution_count": 23,
      "outputs": []
    },
    {
      "cell_type": "code",
      "metadata": {
        "id": "ei0bPNw5I-ut"
      },
      "source": [
        "def web_age(url=url):  \n",
        "  web_photo = Image.open(requests.get(url, stream=True).raw).save(\"web_photo.jpg\")\n",
        "  picture1 = \"/content/web_photo.jpg\"\n",
        "  img = image.load_img(picture1, target_size=(224, 224))\n",
        "  x = image.img_to_array(img)\n",
        "  x = np.expand_dims(x, axis=0)\n",
        "  x = utils.preprocess_input(x, version=1) # or version=2\n",
        "  preds = model.predict(x)\n",
        "  print('Predicted:', utils.decode_predictions(preds))"
      ],
      "execution_count": 24,
      "outputs": []
    },
    {
      "cell_type": "code",
      "metadata": {
        "colab": {
          "base_uri": "https://localhost:8080/"
        },
        "id": "OpES6vhiIU-Y",
        "outputId": "31ae15b6-a9ec-4b64-fe39-51a61cbe3385"
      },
      "source": [
        "url = 'https://static.billboard.com/files/media/Adam-Lambert-press-by-Joseph-Sinclair-2019-billboard-1548-compressed.jpg'\n",
        "web_age(url)"
      ],
      "execution_count": 25,
      "outputs": [
        {
          "output_type": "stream",
          "text": [
            "Predicted: [[[\"b'Adam_Lambert'\", 0.5007718], [\"b'Mark_Deklin'\", 0.02573147], [\"b'Rick_Malambri'\", 0.02113274], [\"b'Adam_Garcia'\", 0.016180612], [\"b'Drew_Fuller'\", 0.014987815]]]\n"
          ],
          "name": "stdout"
        }
      ]
    },
    {
      "cell_type": "code",
      "metadata": {
        "id": "Hl2b0Ho0JHtm"
      },
      "source": [
        "#PASTE AN IMAGE OF A FACE IN THE SAME FORMAT AS ABOVE"
      ],
      "execution_count": 26,
      "outputs": []
    },
    {
      "cell_type": "code",
      "metadata": {
        "colab": {
          "base_uri": "https://localhost:8080/"
        },
        "id": "64VyYu3QJZdu",
        "outputId": "0fa00ae2-dcf7-4836-cf80-264c34cb9851"
      },
      "source": [
        "url = 'https://img.srgcdn.com/e//TlpGVEY3OTl6MlBUUUxvelZYamUucG5n.jpg'\n",
        "web_age(url)"
      ],
      "execution_count": 27,
      "outputs": [
        {
          "output_type": "stream",
          "text": [
            "Predicted: [[[\"b'Riley_Steele'\", 0.021232037], [\"b'Lavell_Crawford'\", 0.017005695], [\"b'Lindsay_Sloane'\", 0.015795082], [\"b'Lucy_Davis'\", 0.014803943], [\"b'Adam_G._Sevani'\", 0.012881087]]]\n"
          ],
          "name": "stdout"
        }
      ]
    }
  ]
}